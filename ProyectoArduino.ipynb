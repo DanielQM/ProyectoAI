{
 "cells": [
  {
   "cell_type": "code",
   "execution_count": 1,
   "metadata": {},
   "outputs": [
    {
     "ename": "NameError",
     "evalue": "name 'destroyAllWindows' is not defined",
     "output_type": "error",
     "traceback": [
      "\u001b[1;31m---------------------------------------------------------------------------\u001b[0m",
      "\u001b[1;31mNameError\u001b[0m                                 Traceback (most recent call last)",
      "\u001b[1;32m<ipython-input-1-bc2b19a60779>\u001b[0m in \u001b[0;36m<module>\u001b[1;34m\u001b[0m\n\u001b[0;32m     32\u001b[0m     \u001b[1;32mif\u001b[0m \u001b[0mcv2\u001b[0m\u001b[1;33m.\u001b[0m\u001b[0mwaitKey\u001b[0m\u001b[1;33m(\u001b[0m\u001b[1;36m1\u001b[0m\u001b[1;33m)\u001b[0m \u001b[1;33m&\u001b[0m \u001b[1;36m0xFF\u001b[0m \u001b[1;33m==\u001b[0m \u001b[0mord\u001b[0m\u001b[1;33m(\u001b[0m\u001b[1;34m'q'\u001b[0m\u001b[1;33m)\u001b[0m\u001b[1;33m:\u001b[0m\u001b[1;33m\u001b[0m\u001b[1;33m\u001b[0m\u001b[0m\n\u001b[0;32m     33\u001b[0m         \u001b[0mcap\u001b[0m\u001b[1;33m.\u001b[0m\u001b[0mrelease\u001b[0m\u001b[1;33m(\u001b[0m\u001b[1;33m)\u001b[0m\u001b[1;33m\u001b[0m\u001b[1;33m\u001b[0m\u001b[0m\n\u001b[1;32m---> 34\u001b[1;33m         \u001b[0mcv2\u001b[0m\u001b[1;33m-\u001b[0m\u001b[0mdestroyAllWindows\u001b[0m\u001b[1;33m(\u001b[0m\u001b[1;33m)\u001b[0m\u001b[1;33m\u001b[0m\u001b[1;33m\u001b[0m\u001b[0m\n\u001b[0m\u001b[0;32m     35\u001b[0m         \u001b[1;32mbreak\u001b[0m\u001b[1;33m\u001b[0m\u001b[1;33m\u001b[0m\u001b[0m\n",
      "\u001b[1;31mNameError\u001b[0m: name 'destroyAllWindows' is not defined"
     ]
    }
   ],
   "source": [
    "import numpy as np\n",
    "import cv2\n",
    "\n",
    "#cargamos la plantilla e inicializamos la webcam:\n",
    "face_cascade = cv2.CascadeClassifier('haarcascade_frontalface_alt.xml')\n",
    "cap = cv2.VideoCapture(0)\n",
    " \n",
    "while(True):\n",
    "    #leemos un frame y lo guardamos\n",
    "    ret, img = cap.read()\n",
    " \n",
    "    #convertimos la imagen a blanco y negro\n",
    "    gray = cv2.cvtColor(img, cv2.COLOR_BGR2GRAY)\n",
    " \n",
    "    #buscamos las coordenadas de los rostros (si los hay) y\n",
    "    #guardamos su posicion\n",
    "    faces = face_cascade.detectMultiScale(gray, 1.3, 5)\n",
    "    \n",
    " \n",
    "    #Dibujamos un rectangulo en las coordenadas de cada rostro\n",
    "    for (x,y,w,h) in faces:\n",
    "        cv2.rectangle(img,(x,y),(x+w,y+h),(125,255,0),2)\n",
    "\n",
    "    #Mostramos la imagen\n",
    "    cv2.imshow('img',img)\n",
    "    \n",
    "    #Guarda la foto tomada en el directorio\n",
    "    cv2.imwrite(\"foto.png\", img)\n",
    "     \n",
    "    #con la tecla 'q' salimos del programa\n",
    "    if cv2.waitKey(1) & 0xFF == ord('q'):\n",
    "        cap.release()\n",
    "        cv2-destroyAllWindows()\n",
    "        break"
   ]
  },
  {
   "cell_type": "code",
   "execution_count": 20,
   "metadata": {},
   "outputs": [
    {
     "name": "stdout",
     "output_type": "stream",
     "text": [
      "22.54880557257625\n"
     ]
    }
   ],
   "source": [
    "from PIL import Image\n",
    "import serial\n",
    "\n",
    "i1 = Image.open(\"foto.png\")\n",
    "i2 = Image.open(\"foto2.png\")\n",
    "assert i1.mode == i2.mode, \"Diferentes tipos de imágenes.\"\n",
    "assert i1.size == i2.size, \"Diferentes tamaños.\"\n",
    "ser = serial.Serial('COM3', 9600)\n",
    " \n",
    "pairs = zip(i1.getdata(), i2.getdata())\n",
    "if len(i1.getbands()) == 1:\n",
    "    # for gray-scale jpegs\n",
    "    dif = sum(abs(p1-p2) for p1,p2 in pairs)\n",
    "else:\n",
    "    dif = sum(abs(c1-c2) for p1,p2 in pairs for c1,c2 in zip(p1,p2))\n",
    " \n",
    "ncomponents = i1.size[0] * i1.size[1] * 3\n",
    "porcentaje = (dif / 255.0 * 100) / ncomponents\n",
    "print (porcentaje)"
   ]
  }
 ],
 "metadata": {
  "kernelspec": {
   "display_name": "Python 3",
   "language": "python",
   "name": "python3"
  },
  "language_info": {
   "codemirror_mode": {
    "name": "ipython",
    "version": 3
   },
   "file_extension": ".py",
   "mimetype": "text/x-python",
   "name": "python",
   "nbconvert_exporter": "python",
   "pygments_lexer": "ipython3",
   "version": "3.7.1"
  }
 },
 "nbformat": 4,
 "nbformat_minor": 2
}
